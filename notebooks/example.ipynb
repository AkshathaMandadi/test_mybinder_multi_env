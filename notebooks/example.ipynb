{
 "cells": [
  {
   "cell_type": "code",
   "execution_count": null,
   "metadata": {},
   "outputs": [],
   "source": [
    "# Test Requests if the main branch is used\\n\",\n",
    "try:\n",
    "    import requests as req\n",
    "    print(f'Requests version: {req.__version__}')\n",
    "except ImportError:\n",
    "    print('Requests not installed')"
   ]
  },
  {
   "cell_type": "code",
   "execution_count": null,
   "metadata": {},
   "outputs": [],
   "source": [
    "# Test matplotlib if the alt-env branch is used\\n\",\n",
    "try:\n",
    "    import matplotlib\n",
    "    print(f'matplotlib version: {matplotlib.__version__}')\n",
    "except ImportError:\n",
    "    print('matplotlib not installed')"
   ]
  },
  {
   "cell_type": "code",
   "execution_count": null,
   "metadata": {},
   "outputs": [],
   "source": [
    "# Test pillow if the alt-env2 branch is used\\n\",\n",
    "try:\n",
    "    import pillow\n",
    "    print(f'pillow version: {pillow.__version__}')\n",
    "except ImportError:\n",
    "    print('pillow not installed')"
   ]
  }
 ],
 "metadata": {
  "language_info": {
   "name": "python"
  }
 },
 "nbformat": 4,
 "nbformat_minor": 2
}
