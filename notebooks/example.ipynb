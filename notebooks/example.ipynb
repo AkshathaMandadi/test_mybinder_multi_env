{
 "cells": [
  {
   "cell_type": "code",
   "execution_count": null,
   "metadata": {},
   "outputs": [],
   "source": [
    "# Test NumPy if the primary environment is used\\n\",\n",
    "try:\n",
    "    import numpy as np\n",
    "    print(f'NumPy version: {np.__version__}')\n",
    "except ImportError:\n",
    "    print('NumPy not installed')"
   ]
  },
  {
   "cell_type": "code",
   "execution_count": null,
   "metadata": {},
   "outputs": [],
   "source": [
    "# Test matplotlib if the alternate environment is used\\n\",\n",
    "try:\n",
    "    import matplotlib.pyplot as plt\n",
    "    print(f'matplotlib version: {plt.__version__}')\n",
    "except ImportError:\n",
    "    print('matplotlib not installed')"
   ]
  }
 ],
 "metadata": {
  "language_info": {
   "name": "python"
  }
 },
 "nbformat": 4,
 "nbformat_minor": 2
}
