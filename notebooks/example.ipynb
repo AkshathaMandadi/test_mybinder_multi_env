{
 "cells": [
  {
   "cell_type": "code",
   "execution_count": null,
   "metadata": {},
   "outputs": [],
   "source": [
    "# Test black if the alt-env2 branch is used\\n\",\n",
    "try:\n",
    "    import black\n",
    "    print(f'pillow version: {black.__version__}')\n",
    "except ImportError:\n",
    "    print('Black not installed')"
   ]
  },
  {
   "cell_type": "code",
   "execution_count": null,
   "metadata": {},
   "outputs": [],
   "source": [
    "# Test pytests if the main branch is used\\n\",\n",
    "try:\n",
    "    import pytest\n",
    "    print(f'Requests version: {pytest.__version__}')\n",
    "except ImportError:\n",
    "    print('Pytest not installed')"
   ]
  },
  {
   "cell_type": "code",
   "execution_count": null,
   "metadata": {},
   "outputs": [],
   "source": [
    "# Test matplotlib if the alt-env branch is used\\n\",\n",
    "try:\n",
    "    import matplotlib\n",
    "    print(f'matplotlib version: {matplotlib.__version__}')\n",
    "except ImportError:\n",
    "    print('matplotlib not installed')"
   ]
  }
 ],
 "metadata": {
  "language_info": {
   "name": "python"
  }
 },
 "nbformat": 4,
 "nbformat_minor": 2
}
